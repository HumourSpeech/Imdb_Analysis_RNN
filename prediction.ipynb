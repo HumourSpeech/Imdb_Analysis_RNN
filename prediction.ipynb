{
 "cells": [
  {
   "cell_type": "code",
   "execution_count": 1,
   "id": "9094ae88",
   "metadata": {},
   "outputs": [],
   "source": [
    "import numpy as np\n",
    "import tensorflow as tf\n",
    "from tensorflow.keras.datasets import imdb\n",
    "from tensorflow.keras.preprocessing import sequence\n",
    "from tensorflow.keras.models import load_model"
   ]
  },
  {
   "cell_type": "code",
   "execution_count": 2,
   "id": "6c5a565a",
   "metadata": {},
   "outputs": [],
   "source": [
    "#load the IMDB dataset word index\n",
    "word_index = imdb.get_word_index()\n",
    "reverse_word_index = {value: key for key, value in word_index.items()}"
   ]
  },
  {
   "cell_type": "code",
   "execution_count": 3,
   "id": "ecd6c0b5",
   "metadata": {},
   "outputs": [
    {
     "name": "stderr",
     "output_type": "stream",
     "text": [
      "WARNING:absl:Compiled the loaded model, but the compiled metrics have yet to be built. `model.compile_metrics` will be empty until you train or evaluate the model.\n"
     ]
    },
    {
     "data": {
      "text/html": [
       "<pre style=\"white-space:pre;overflow-x:auto;line-height:normal;font-family:Menlo,'DejaVu Sans Mono',consolas,'Courier New',monospace\"><span style=\"font-weight: bold\">Model: \"sequential_1\"</span>\n",
       "</pre>\n"
      ],
      "text/plain": [
       "\u001b[1mModel: \"sequential_1\"\u001b[0m\n"
      ]
     },
     "metadata": {},
     "output_type": "display_data"
    },
    {
     "data": {
      "text/html": [
       "<pre style=\"white-space:pre;overflow-x:auto;line-height:normal;font-family:Menlo,'DejaVu Sans Mono',consolas,'Courier New',monospace\">┏━━━━━━━━━━━━━━━━━━━━━━━━━━━━━━━━━┳━━━━━━━━━━━━━━━━━━━━━━━━┳━━━━━━━━━━━━━━━┓\n",
       "┃<span style=\"font-weight: bold\"> Layer (type)                    </span>┃<span style=\"font-weight: bold\"> Output Shape           </span>┃<span style=\"font-weight: bold\">       Param # </span>┃\n",
       "┡━━━━━━━━━━━━━━━━━━━━━━━━━━━━━━━━━╇━━━━━━━━━━━━━━━━━━━━━━━━╇━━━━━━━━━━━━━━━┩\n",
       "│ embedding_1 (<span style=\"color: #0087ff; text-decoration-color: #0087ff\">Embedding</span>)         │ (<span style=\"color: #00d7ff; text-decoration-color: #00d7ff\">None</span>, <span style=\"color: #00af00; text-decoration-color: #00af00\">500</span>, <span style=\"color: #00af00; text-decoration-color: #00af00\">128</span>)       │     <span style=\"color: #00af00; text-decoration-color: #00af00\">1,280,000</span> │\n",
       "├─────────────────────────────────┼────────────────────────┼───────────────┤\n",
       "│ simple_rnn_1 (<span style=\"color: #0087ff; text-decoration-color: #0087ff\">SimpleRNN</span>)        │ (<span style=\"color: #00d7ff; text-decoration-color: #00d7ff\">None</span>, <span style=\"color: #00af00; text-decoration-color: #00af00\">128</span>)            │        <span style=\"color: #00af00; text-decoration-color: #00af00\">32,896</span> │\n",
       "├─────────────────────────────────┼────────────────────────┼───────────────┤\n",
       "│ dense_1 (<span style=\"color: #0087ff; text-decoration-color: #0087ff\">Dense</span>)                 │ (<span style=\"color: #00d7ff; text-decoration-color: #00d7ff\">None</span>, <span style=\"color: #00af00; text-decoration-color: #00af00\">1</span>)              │           <span style=\"color: #00af00; text-decoration-color: #00af00\">129</span> │\n",
       "└─────────────────────────────────┴────────────────────────┴───────────────┘\n",
       "</pre>\n"
      ],
      "text/plain": [
       "┏━━━━━━━━━━━━━━━━━━━━━━━━━━━━━━━━━┳━━━━━━━━━━━━━━━━━━━━━━━━┳━━━━━━━━━━━━━━━┓\n",
       "┃\u001b[1m \u001b[0m\u001b[1mLayer (type)                   \u001b[0m\u001b[1m \u001b[0m┃\u001b[1m \u001b[0m\u001b[1mOutput Shape          \u001b[0m\u001b[1m \u001b[0m┃\u001b[1m \u001b[0m\u001b[1m      Param #\u001b[0m\u001b[1m \u001b[0m┃\n",
       "┡━━━━━━━━━━━━━━━━━━━━━━━━━━━━━━━━━╇━━━━━━━━━━━━━━━━━━━━━━━━╇━━━━━━━━━━━━━━━┩\n",
       "│ embedding_1 (\u001b[38;5;33mEmbedding\u001b[0m)         │ (\u001b[38;5;45mNone\u001b[0m, \u001b[38;5;34m500\u001b[0m, \u001b[38;5;34m128\u001b[0m)       │     \u001b[38;5;34m1,280,000\u001b[0m │\n",
       "├─────────────────────────────────┼────────────────────────┼───────────────┤\n",
       "│ simple_rnn_1 (\u001b[38;5;33mSimpleRNN\u001b[0m)        │ (\u001b[38;5;45mNone\u001b[0m, \u001b[38;5;34m128\u001b[0m)            │        \u001b[38;5;34m32,896\u001b[0m │\n",
       "├─────────────────────────────────┼────────────────────────┼───────────────┤\n",
       "│ dense_1 (\u001b[38;5;33mDense\u001b[0m)                 │ (\u001b[38;5;45mNone\u001b[0m, \u001b[38;5;34m1\u001b[0m)              │           \u001b[38;5;34m129\u001b[0m │\n",
       "└─────────────────────────────────┴────────────────────────┴───────────────┘\n"
      ]
     },
     "metadata": {},
     "output_type": "display_data"
    },
    {
     "data": {
      "text/html": [
       "<pre style=\"white-space:pre;overflow-x:auto;line-height:normal;font-family:Menlo,'DejaVu Sans Mono',consolas,'Courier New',monospace\"><span style=\"font-weight: bold\"> Total params: </span><span style=\"color: #00af00; text-decoration-color: #00af00\">1,313,027</span> (5.01 MB)\n",
       "</pre>\n"
      ],
      "text/plain": [
       "\u001b[1m Total params: \u001b[0m\u001b[38;5;34m1,313,027\u001b[0m (5.01 MB)\n"
      ]
     },
     "metadata": {},
     "output_type": "display_data"
    },
    {
     "data": {
      "text/html": [
       "<pre style=\"white-space:pre;overflow-x:auto;line-height:normal;font-family:Menlo,'DejaVu Sans Mono',consolas,'Courier New',monospace\"><span style=\"font-weight: bold\"> Trainable params: </span><span style=\"color: #00af00; text-decoration-color: #00af00\">1,313,025</span> (5.01 MB)\n",
       "</pre>\n"
      ],
      "text/plain": [
       "\u001b[1m Trainable params: \u001b[0m\u001b[38;5;34m1,313,025\u001b[0m (5.01 MB)\n"
      ]
     },
     "metadata": {},
     "output_type": "display_data"
    },
    {
     "data": {
      "text/html": [
       "<pre style=\"white-space:pre;overflow-x:auto;line-height:normal;font-family:Menlo,'DejaVu Sans Mono',consolas,'Courier New',monospace\"><span style=\"font-weight: bold\"> Non-trainable params: </span><span style=\"color: #00af00; text-decoration-color: #00af00\">0</span> (0.00 B)\n",
       "</pre>\n"
      ],
      "text/plain": [
       "\u001b[1m Non-trainable params: \u001b[0m\u001b[38;5;34m0\u001b[0m (0.00 B)\n"
      ]
     },
     "metadata": {},
     "output_type": "display_data"
    },
    {
     "data": {
      "text/html": [
       "<pre style=\"white-space:pre;overflow-x:auto;line-height:normal;font-family:Menlo,'DejaVu Sans Mono',consolas,'Courier New',monospace\"><span style=\"font-weight: bold\"> Optimizer params: </span><span style=\"color: #00af00; text-decoration-color: #00af00\">2</span> (12.00 B)\n",
       "</pre>\n"
      ],
      "text/plain": [
       "\u001b[1m Optimizer params: \u001b[0m\u001b[38;5;34m2\u001b[0m (12.00 B)\n"
      ]
     },
     "metadata": {},
     "output_type": "display_data"
    }
   ],
   "source": [
    "#load the pre-trained model with ReLU activation function\n",
    "model = load_model('imdb_simpleRNN_model.h5')\n",
    "model.summary()"
   ]
  },
  {
   "cell_type": "code",
   "execution_count": 4,
   "id": "c50c9956",
   "metadata": {},
   "outputs": [
    {
     "data": {
      "text/plain": [
       "[array([[-0.08555605,  0.45897406, -0.26186496, ...,  0.4098432 ,\n",
       "         -0.332407  ,  0.4913343 ],\n",
       "        [ 0.01810839, -0.03214005, -0.03771011, ...,  0.07330823,\n",
       "         -0.0072233 ,  0.03132017],\n",
       "        [ 0.15600316,  0.01199406, -0.13237011, ...,  0.12337102,\n",
       "         -0.0555133 , -0.12977403],\n",
       "        ...,\n",
       "        [ 0.10503556,  0.0273691 ,  0.0019099 , ...,  0.02422866,\n",
       "         -0.0309477 ,  0.04805871],\n",
       "        [-0.01476773, -0.05013441, -0.1277832 , ..., -0.07015582,\n",
       "          0.02075182, -0.0353242 ],\n",
       "        [ 0.10342132, -0.15642431,  0.01826655, ...,  0.061643  ,\n",
       "         -0.0691833 ,  0.00687637]], dtype=float32),\n",
       " array([[-0.06236051,  0.04635285,  0.09499055, ..., -0.16981384,\n",
       "          0.10952841, -0.0249898 ],\n",
       "        [-0.11224777,  0.16476393, -0.08903097, ..., -0.13850133,\n",
       "          0.08358942, -0.07743151],\n",
       "        [-0.01857511, -0.14267644,  0.08536467, ...,  0.09972   ,\n",
       "          0.03433434,  0.05293204],\n",
       "        ...,\n",
       "        [ 0.11470434, -0.02826129, -0.10535163, ...,  0.03075865,\n",
       "         -0.00411711, -0.01269585],\n",
       "        [ 0.0820173 , -0.05038489,  0.07922002, ...,  0.11092923,\n",
       "          0.11123531,  0.11075209],\n",
       "        [-0.0815032 ,  0.1326265 , -0.11381625, ...,  0.11514043,\n",
       "         -0.09729414, -0.15347432]], dtype=float32),\n",
       " array([[-0.12208438, -0.0632492 , -0.09995955, ..., -0.08660299,\n",
       "          0.08312096, -0.07568318],\n",
       "        [-0.14807422, -0.03625385,  0.14154717, ...,  0.01530391,\n",
       "         -0.10099936, -0.13908374],\n",
       "        [ 0.02226159, -0.05733962,  0.02184678, ..., -0.08585624,\n",
       "         -0.00160675,  0.05697899],\n",
       "        ...,\n",
       "        [ 0.00586179, -0.13799308, -0.11131596, ...,  0.01852684,\n",
       "          0.02680138,  0.12409107],\n",
       "        [ 0.02036316, -0.09792352, -0.05828654, ..., -0.02352912,\n",
       "         -0.12011298,  0.0087203 ],\n",
       "        [-0.25672227,  0.03788657, -0.06577411, ..., -0.19198728,\n",
       "         -0.01911397, -0.11074832]], dtype=float32),\n",
       " array([-0.01110237, -0.04087142, -0.03196347, -0.03062487, -0.05541616,\n",
       "        -0.04687973, -0.04700872, -0.04645129,  0.02395588, -0.02868942,\n",
       "         0.02645161,  0.03558289,  0.04720373, -0.0108458 ,  0.00193945,\n",
       "        -0.04780737,  0.04683578, -0.02304886,  0.03040349, -0.00416355,\n",
       "        -0.00204065, -0.04589961, -0.04123526,  0.02649723, -0.04004893,\n",
       "        -0.03226323, -0.03801101,  0.01483774,  0.03770979,  0.06525402,\n",
       "        -0.01528578,  0.02137784,  0.00977445,  0.03509053, -0.01787488,\n",
       "         0.03433309,  0.07029825, -0.05120495, -0.00450512,  0.05249136,\n",
       "        -0.03204639, -0.02061434, -0.04873648, -0.01482051, -0.04678664,\n",
       "         0.01637787, -0.02466167,  0.03964524, -0.01685544, -0.01497827,\n",
       "         0.04130223,  0.05047508, -0.02629845,  0.06019584,  0.06204052,\n",
       "         0.01960544, -0.01064545, -0.0224868 ,  0.04836529, -0.0418389 ,\n",
       "        -0.01424814,  0.07490797,  0.06505195,  0.06701481,  0.02716171,\n",
       "         0.02238984,  0.02965732, -0.03375622,  0.00403066,  0.00575134,\n",
       "        -0.03198834,  0.01149156,  0.01543885, -0.05267808, -0.05967155,\n",
       "         0.04295812,  0.04435062,  0.02879813, -0.044537  , -0.06262682,\n",
       "        -0.00603787,  0.05610844, -0.02772137,  0.03867726,  0.00048569,\n",
       "        -0.05099084, -0.04720578, -0.04838439,  0.04014207, -0.037845  ,\n",
       "         0.06655256, -0.048148  , -0.01069556,  0.04006236,  0.05823949,\n",
       "         0.02220699, -0.05966698, -0.02303063, -0.04724519, -0.02508096,\n",
       "         0.05123811,  0.02079169,  0.06936593,  0.05449233, -0.00201963,\n",
       "         0.00762084,  0.01128177, -0.0357867 , -0.02904273, -0.01383365,\n",
       "        -0.02430362,  0.00817538, -0.04398891,  0.06137677, -0.02674209,\n",
       "         0.05169237,  0.00140624, -0.02824059, -0.03609034,  0.03345418,\n",
       "        -0.0148357 ,  0.03316089, -0.0076396 ,  0.04005917, -0.04014421,\n",
       "        -0.03529266, -0.017636  ,  0.0493804 ], dtype=float32),\n",
       " array([[ 8.88216048e-02],\n",
       "        [-3.47627521e-01],\n",
       "        [-8.99541080e-02],\n",
       "        [-3.50787699e-01],\n",
       "        [-1.19185060e-01],\n",
       "        [-5.33696532e-01],\n",
       "        [ 3.35870199e-02],\n",
       "        [-2.79453039e-01],\n",
       "        [ 8.16352218e-02],\n",
       "        [ 8.52352679e-02],\n",
       "        [-1.87749892e-01],\n",
       "        [ 1.07724508e-02],\n",
       "        [-3.76728661e-02],\n",
       "        [-4.27466668e-02],\n",
       "        [-3.28560732e-02],\n",
       "        [ 8.37581605e-02],\n",
       "        [ 3.45455170e-01],\n",
       "        [-4.78479087e-01],\n",
       "        [-2.52867848e-01],\n",
       "        [-1.32445619e-02],\n",
       "        [ 1.96734548e-01],\n",
       "        [ 2.95886993e-02],\n",
       "        [ 4.91476245e-02],\n",
       "        [ 6.43464737e-03],\n",
       "        [ 1.93586685e-02],\n",
       "        [-1.79909721e-01],\n",
       "        [-1.77410971e-02],\n",
       "        [ 1.13215417e-01],\n",
       "        [ 3.74423802e-01],\n",
       "        [ 1.11505412e-01],\n",
       "        [-5.76458991e-01],\n",
       "        [-2.18955636e-01],\n",
       "        [-1.78585589e-01],\n",
       "        [-5.72064109e-02],\n",
       "        [-3.57295692e-01],\n",
       "        [-2.22483426e-01],\n",
       "        [ 6.38033003e-02],\n",
       "        [-1.13933735e-01],\n",
       "        [-4.75270897e-02],\n",
       "        [-9.21594203e-02],\n",
       "        [-9.62503850e-02],\n",
       "        [ 6.06339648e-02],\n",
       "        [-1.27421871e-01],\n",
       "        [ 1.33551836e-01],\n",
       "        [-2.00824644e-02],\n",
       "        [-1.74476221e-01],\n",
       "        [-3.88514772e-02],\n",
       "        [-1.46200016e-01],\n",
       "        [-1.88734397e-01],\n",
       "        [ 5.34656756e-02],\n",
       "        [-2.13501304e-01],\n",
       "        [ 1.62058964e-01],\n",
       "        [ 5.32559305e-02],\n",
       "        [ 1.16681308e-01],\n",
       "        [ 6.78444579e-02],\n",
       "        [-5.35894394e-01],\n",
       "        [-3.26555103e-01],\n",
       "        [-1.10352173e-01],\n",
       "        [ 7.51273692e-01],\n",
       "        [ 7.31802657e-02],\n",
       "        [-2.11177066e-01],\n",
       "        [-4.30912450e-02],\n",
       "        [ 5.31566851e-02],\n",
       "        [ 1.24487571e-01],\n",
       "        [-2.08679989e-01],\n",
       "        [-4.99291755e-02],\n",
       "        [ 1.42005414e-01],\n",
       "        [-1.19942866e-01],\n",
       "        [ 1.68630630e-01],\n",
       "        [-1.30739704e-01],\n",
       "        [-1.62446752e-01],\n",
       "        [-1.79216966e-01],\n",
       "        [ 7.20115677e-02],\n",
       "        [-1.80150680e-02],\n",
       "        [-2.04805806e-02],\n",
       "        [-2.54847795e-01],\n",
       "        [ 5.18161915e-02],\n",
       "        [ 6.20716400e-02],\n",
       "        [-3.61931115e-01],\n",
       "        [-1.38231516e-01],\n",
       "        [-1.67170420e-01],\n",
       "        [ 5.90378456e-02],\n",
       "        [-1.04414493e-01],\n",
       "        [-1.70240715e-01],\n",
       "        [ 1.34951353e-01],\n",
       "        [-1.06969737e-01],\n",
       "        [-2.09893823e-01],\n",
       "        [-1.60673425e-01],\n",
       "        [-2.49596432e-01],\n",
       "        [-1.55043855e-01],\n",
       "        [ 1.06991440e-01],\n",
       "        [-3.33238661e-01],\n",
       "        [-2.11697310e-01],\n",
       "        [ 9.28949952e-01],\n",
       "        [-2.51415014e-01],\n",
       "        [ 2.08227970e-02],\n",
       "        [ 3.12941819e-02],\n",
       "        [-3.41611914e-02],\n",
       "        [-8.56220350e-02],\n",
       "        [-7.55145401e-02],\n",
       "        [ 5.77286780e-02],\n",
       "        [-1.19028732e-01],\n",
       "        [-2.39868835e-01],\n",
       "        [ 9.99937803e-02],\n",
       "        [-1.67010754e-01],\n",
       "        [-2.53205717e-01],\n",
       "        [-2.44350672e-01],\n",
       "        [ 7.22344667e-02],\n",
       "        [-6.24851964e-04],\n",
       "        [ 9.19259563e-02],\n",
       "        [ 3.10997605e-01],\n",
       "        [-7.56137431e-01],\n",
       "        [-2.22737789e-02],\n",
       "        [ 9.68595222e-02],\n",
       "        [-1.87164903e-01],\n",
       "        [ 2.41134569e-01],\n",
       "        [-1.20412000e-01],\n",
       "        [ 4.90533486e-02],\n",
       "        [-1.02804117e-01],\n",
       "        [-4.80367005e-01],\n",
       "        [-2.17707932e-01],\n",
       "        [ 1.06718265e-01],\n",
       "        [-5.33964336e-01],\n",
       "        [ 1.47698626e-01],\n",
       "        [ 3.71276811e-02],\n",
       "        [ 1.89452767e-01],\n",
       "        [-9.96964723e-02],\n",
       "        [-2.19145581e-01]], dtype=float32),\n",
       " array([-1.5565366], dtype=float32)]"
      ]
     },
     "execution_count": 4,
     "metadata": {},
     "output_type": "execute_result"
    }
   ],
   "source": [
    "model.get_weights()"
   ]
  },
  {
   "cell_type": "code",
   "execution_count": 5,
   "id": "6449ac0a",
   "metadata": {},
   "outputs": [],
   "source": [
    "# Step 2: Helper funcitons\n",
    "# Functions to decode reviews \n",
    "def decode_reviews(encoded_review):\n",
    "    return ' '.join([reverse_word_index.get(i-3, '?') for i in encoded_review])\n",
    "\n",
    "# funciton to preprocess the input\n",
    "def preprocess_text(text):\n",
    "    words = text.lower().split()\n",
    "    encoded_review = [word_index.get(word, 2) +3 for word in words]  # 2 is the index for OOV (out of vocabulary)\n",
    "    padded_review = sequence.pad_sequences([encoded_review], maxlen=500, padding='post')\n",
    "    return padded_review"
   ]
  },
  {
   "cell_type": "code",
   "execution_count": 6,
   "id": "5a50d4f1",
   "metadata": {},
   "outputs": [],
   "source": [
    "## Prediction function \n",
    "def predict_sentiment(text):\n",
    "    preprocess_input = preprocess_text(text)\n",
    "    prediction = model.predict(preprocess_input)\n",
    "    sentiment = 'Positive' if prediction[0][0] > 0.5 else 'Negative'\n",
    "    return sentiment, prediction[0][0]"
   ]
  },
  {
   "cell_type": "code",
   "execution_count": 9,
   "id": "70a37b55",
   "metadata": {},
   "outputs": [
    {
     "name": "stdout",
     "output_type": "stream",
     "text": [
      "\u001b[1m1/1\u001b[0m \u001b[32m━━━━━━━━━━━━━━━━━━━━\u001b[0m\u001b[37m\u001b[0m \u001b[1m0s\u001b[0m 52ms/step\n",
      "Review: This movie was fantastic! \n",
      "Predicted Sentiment: Negative, Score: 0.0003\n"
     ]
    }
   ],
   "source": [
    "# Step 4: User input and Prediciton\n",
    "# Example review for prediciton\n",
    "example_review = \"This movie was fantastic! \"\n",
    "sentiment, score = predict_sentiment(example_review)\n",
    "\n",
    "print(f\"Review: {example_review}\")\n",
    "print(f\"Predicted Sentiment: {sentiment}, Score: {score:.4f}\")"
   ]
  }
 ],
 "metadata": {
  "kernelspec": {
   "display_name": "Python 3",
   "language": "python",
   "name": "python3"
  },
  "language_info": {
   "codemirror_mode": {
    "name": "ipython",
    "version": 3
   },
   "file_extension": ".py",
   "mimetype": "text/x-python",
   "name": "python",
   "nbconvert_exporter": "python",
   "pygments_lexer": "ipython3",
   "version": "3.12.0"
  }
 },
 "nbformat": 4,
 "nbformat_minor": 5
}
